{
 "cells": [
  {
   "cell_type": "markdown",
   "metadata": {},
   "source": [
    "<center>\n",
    "    <img src=\"https://cf-courses-data.s3.us.cloud-object-storage.appdomain.cloud/IBMDeveloperSkillsNetwork-DS0105EN-SkillsNetwork/labs/Module2/images/SN_web_lightmode.png\" width=\"300\" alt=\"cognitiveclass.ai logo\">\n",
    "</center>\n"
   ]
  },
  {
   "cell_type": "markdown",
   "metadata": {},
   "source": [
    "#### Add your code below following the instructions given in the course\n"
   ]
  },
  {
   "cell_type": "markdown",
   "metadata": {},
   "source": [
    "# Exercise 2 - Create a markdown cell with the title of the notebook.\n",
    "**Assignment - Data science** "
   ]
  },
  {
   "cell_type": "markdown",
   "metadata": {},
   "source": [
    "# Exercise 3 - Create a markdown cell for an introduction.\n",
    "**INTRODUCTION:**\n",
    "This Assignment contains various exercises related to Data science using jupyter notebook . The exercises like listing of data science languages , tools , libraries and to perform some mathematical expressions . "
   ]
  },
  {
   "cell_type": "markdown",
   "metadata": {},
   "source": [
    "# Exercise 4 - Create a markdown cell to list data science languages. \n",
    "**Data science Languages:**\n",
    "1. R  \n",
    "2. SQL \n",
    "3. PYTHON \n",
    "4. C++ \n",
    "5. JAVA \n",
    "6. SCALA \n",
    "7. JAVA SCRIPT \n",
    "8. JULIA  "
   ]
  },
  {
   "cell_type": "markdown",
   "metadata": {},
   "source": [
    "# Exercise 5 - Create a markdown cell to list data science libraries.\n",
    "**Data Science Libraries:**\n",
    "Libraries are collection of functions and methods that allow to perform many actions without the code.\n",
    "\n",
    " 1. Scientific computing Libraries   : Pandas , Numpy       \n",
    " 2. Visualization Libraries          : Matplotlib , seaborn \n",
    " 3.  ML and Deep learning Libraries  : Scikit-learn , keras \n",
    " 4. Deep Learning Libraries          : Tenserflow , pytorch \n",
    " 5. Cluster computing framework      : Apache spark         \n",
    " 6. R Libraries                      : ggplot2              \n",
    " 7. Scala Libraries                  : Vegas              "
   ]
  },
  {
   "cell_type": "markdown",
   "metadata": {},
   "source": [
    "# Exercise 6 - Create a markdown cell with a table of Data Science tools.\n",
    "**Data Science Tools**: \n",
    "\n",
    "| S.No                                     |              Tools                            |\n",
    "|------                                    | -----                                         |\n",
    "| 1.DATA MANAGEMENT TOOLS                  | MangoDB,Cassandra,mysql ,hadoop hdfs          |\n",
    "| 2.DATA INTEGRATION AND TRANSFORMATION    | kafka,Spark sql, Apache airflow, kubeflow     |\n",
    "| 3.DATA VISUALIZATION                     | Apache superset, Kibana , Pixiedust           |\n",
    "| 4.MODEL DEPLOYMENT                       | Kubernetes, mleap, Tenserflow , seldon,       |\n",
    "| 5.MODEL MODIFICATION AND ASSESSMENT      | 360 Toolbox, modelDB,                         |\n",
    "| 6.CODE ASSET MANAGEMENT                  | GIT, GITHUB, GITLAB                           |\n",
    "| 7.DATA ASSET MANAGEMENT                  | Apacheatlas,kylo                              |"
   ]
  },
  {
   "cell_type": "markdown",
   "metadata": {},
   "source": [
    "# Exercise 7 - Create a markdown cell introducing arithmetic expression examples.\n",
    "**INTRODUCTION**:\n",
    "Here , we perform some arithmetic expressions like addition , subtraction , Multiplication and Division ."
   ]
  },
  {
   "cell_type": "code",
   "execution_count": 12,
   "metadata": {
    "tags": []
   },
   "outputs": [
    {
     "name": "stdout",
     "output_type": "stream",
     "text": [
      "multiplication 8\n",
      "addition 6\n"
     ]
    }
   ],
   "source": [
    "# Exercise 8 - Create a code cell to multiply and add numbers\n",
    "a = 2\n",
    "b = 4\n",
    "c = a * b\n",
    "d = a + b\n",
    "print(\"multiplication\", c)\n",
    "print(\"addition\", d)"
   ]
  },
  {
   "cell_type": "code",
   "execution_count": 11,
   "metadata": {
    "tags": []
   },
   "outputs": [
    {
     "name": "stdout",
     "output_type": "stream",
     "text": [
      "2.0\n"
     ]
    }
   ],
   "source": [
    "# Exercise 9 - Create a code cell to convert minutes to hours.\n",
    "min = 120\n",
    "hr = min / 60\n",
    "print(hr)"
   ]
  },
  {
   "cell_type": "markdown",
   "metadata": {},
   "source": [
    "# Exercise 10 -Insert a markdown cell to list Objectives.\n",
    " 1. Understand basic Data Science languages , libraries and tools \n",
    " 2. Learn to perform arithmetic operations\n",
    " 3. Convert time units from minutes to hours"
   ]
  },
  {
   "cell_type": "markdown",
   "metadata": {},
   "source": [
    "# Exercise 11 - Create a markdown cell to indicate the Author’s name.\n",
    "## AUTHOR\n",
    "Narsimha Rao Vengisetti"
   ]
  },
  {
   "cell_type": "markdown",
   "metadata": {},
   "source": [
    "GITHUB LINK :\n",
    "https://github.com/Nani0806/assignment"
   ]
  },
  {
   "cell_type": "code",
   "execution_count": null,
   "metadata": {},
   "outputs": [],
   "source": []
  }
 ],
 "metadata": {
  "kernelspec": {
   "display_name": "Python",
   "language": "python",
   "name": "conda-env-python-py"
  },
  "language_info": {
   "codemirror_mode": {
    "name": "ipython",
    "version": 3
   },
   "file_extension": ".py",
   "mimetype": "text/x-python",
   "name": "python",
   "nbconvert_exporter": "python",
   "pygments_lexer": "ipython3",
   "version": "3.7.12"
  }
 },
 "nbformat": 4,
 "nbformat_minor": 4
}
